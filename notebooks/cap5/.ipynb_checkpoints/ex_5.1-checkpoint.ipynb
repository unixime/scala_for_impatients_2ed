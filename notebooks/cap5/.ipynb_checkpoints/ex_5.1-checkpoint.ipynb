{
 "cells": [
  {
   "cell_type": "code",
   "execution_count": 33,
   "metadata": {
    "collapsed": false
   },
   "outputs": [],
   "source": [
    "/*\n",
    "Improve the Counter class in Section 5.1, “Simple Classes and Parameterless\n",
    "Methods,” on page 55 so that it doesn’t turn negative at Int.MaxValue .\n",
    "\n",
    "class Counter {\n",
    "    private var value = 0 // You must initialize the field\n",
    "    def increment() { value += 1 } // Methods are public by default\n",
    "    def current() = value\n",
    "}\n",
    "*/"
   ]
  },
  {
   "cell_type": "code",
   "execution_count": null,
   "metadata": {
    "collapsed": true
   },
   "outputs": [],
   "source": [
    "// Sol 1\n",
    "\n",
    "class Counter {\n",
    "    private var value = Int.MaxValue\n",
    "    \n",
    "    def increment() {\n",
    "        \n",
    "        if (value == Int.MaxValue) value = 0\n",
    "        else value += 1\n",
    "    }\n",
    "    \n",
    "    def current() = value\n",
    "}"
   ]
  },
  {
   "cell_type": "code",
   "execution_count": 30,
   "metadata": {
    "collapsed": false
   },
   "outputs": [
    {
     "data": {
      "text/plain": [
       "defined \u001b[32mclass \u001b[36mCounter2\u001b[0m"
      ]
     },
     "metadata": {},
     "output_type": "display_data"
    }
   ],
   "source": [
    "// Sol 2\n",
    "\n",
    "class Counter2 {\n",
    "    private var value = Int.MaxValue\n",
    "    \n",
    "    def increment() {\n",
    "        \n",
    "        value = if (value == Int.MaxValue) 0 else value + 1\n",
    "    }\n",
    "    \n",
    "    def current() = value\n",
    "}"
   ]
  },
  {
   "cell_type": "code",
   "execution_count": 31,
   "metadata": {
    "collapsed": false
   },
   "outputs": [
    {
     "data": {
      "text/plain": [
       "\u001b[36mcnt\u001b[0m: \u001b[32mCounter2\u001b[0m = cmd26$$user$Counter2@14d704df"
      ]
     },
     "metadata": {},
     "output_type": "display_data"
    }
   ],
   "source": [
    "var cnt = new Counter2()"
   ]
  },
  {
   "cell_type": "code",
   "execution_count": 32,
   "metadata": {
    "collapsed": false
   },
   "outputs": [
    {
     "data": {
      "text/plain": [
       "\u001b[36mres28_0\u001b[0m: \u001b[32mInt\u001b[0m = \u001b[32m2147483647\u001b[0m"
      ]
     },
     "metadata": {},
     "output_type": "display_data"
    }
   ],
   "source": [
    "cnt.current()\n",
    "cnt.increment()"
   ]
  },
  {
   "cell_type": "code",
   "execution_count": 33,
   "metadata": {
    "collapsed": false
   },
   "outputs": [
    {
     "data": {
      "text/plain": [
       "\u001b[36mres29\u001b[0m: \u001b[32mInt\u001b[0m = \u001b[32m4444\u001b[0m"
      ]
     },
     "metadata": {},
     "output_type": "display_data"
    }
   ],
   "source": [
    "cnt.current()"
   ]
  },
  {
   "cell_type": "code",
   "execution_count": 23,
   "metadata": {
    "collapsed": false
   },
   "outputs": [
    {
     "data": {
      "text/plain": [
       "\u001b[36mres21\u001b[0m: \u001b[32mInt\u001b[0m = \u001b[32m-2147483648\u001b[0m"
      ]
     },
     "metadata": {},
     "output_type": "display_data"
    }
   ],
   "source": [
    "Int.MaxValue + 1"
   ]
  },
  {
   "cell_type": "code",
   "execution_count": null,
   "metadata": {
    "collapsed": true
   },
   "outputs": [],
   "source": []
  }
 ],
 "metadata": {
  "kernelspec": {
   "display_name": "Scala 2.11",
   "language": "scala211",
   "name": "scala211"
  },
  "language_info": {
   "codemirror_mode": "text/x-scala",
   "file_extension": ".scala",
   "mimetype": "text/x-scala",
   "name": "scala211",
   "pygments_lexer": "scala",
   "version": "2.11.6"
  }
 },
 "nbformat": 4,
 "nbformat_minor": 2
}
