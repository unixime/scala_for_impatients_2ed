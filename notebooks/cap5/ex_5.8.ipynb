{
 "cells": [
  {
   "cell_type": "code",
   "execution_count": 0,
   "metadata": {
    "collapsed": true
   },
   "outputs": [],
   "source": [
    "/*\n",
    "Make a class Car with read-only properties for manufacturer, model name,\n",
    "and model year, and a read-write property for the license plate. Supply four\n",
    "constructors. All require the manufacturer and model name. Optionally,\n",
    "model year and license plate can also be specified in the constructor. If not,\n",
    "the model year is set to -1 and the license plate to the empty str\n",
    "*/"
   ]
  },
  {
   "cell_type": "code",
   "execution_count": 4,
   "metadata": {
    "collapsed": false
   },
   "outputs": [
    {
     "data": {
      "text/plain": [
       "defined \u001b[32mclass \u001b[36mCar\u001b[0m"
      ]
     },
     "metadata": {},
     "output_type": "display_data"
    }
   ],
   "source": [
    "class Car(val manufacturer:String, val model:String)\n",
    "{\n",
    "    var year = -1\n",
    "    var license = \"\"\n",
    "    \n",
    "    def this(manufacturer:String, model:String, year: Int)\n",
    "    {\n",
    "        this(manufacturer, model)\n",
    "        this.year = year\n",
    "    }\n",
    "    \n",
    "    def this(manufacturer:String, model:String, year: Int, license: String)\n",
    "    {\n",
    "        this(manufacturer, model, year)\n",
    "        this.license = license\n",
    "    }\n",
    "}"
   ]
  },
  {
   "cell_type": "code",
   "execution_count": 5,
   "metadata": {
    "collapsed": false
   },
   "outputs": [
    {
     "data": {
      "text/plain": [
       "\u001b[36mcar1\u001b[0m: \u001b[32mCar\u001b[0m = cmd1$$user$Car@3be84058\n",
       "\u001b[36mres2_1\u001b[0m: \u001b[32mString\u001b[0m = \u001b[32m\"Fiat\"\u001b[0m\n",
       "\u001b[36mres2_2\u001b[0m: \u001b[32mString\u001b[0m = \u001b[32m\"Punto\"\u001b[0m"
      ]
     },
     "metadata": {},
     "output_type": "display_data"
    }
   ],
   "source": [
    "val car1 = new Car(\"Fiat\", \"Punto\")\n",
    "car1.manufacturer\n",
    "car1.model"
   ]
  },
  {
   "cell_type": "code",
   "execution_count": 6,
   "metadata": {
    "collapsed": false
   },
   "outputs": [
    {
     "data": {
      "text/plain": [
       "\u001b[36mcar2\u001b[0m: \u001b[32mCar\u001b[0m = cmd1$$user$Car@534c7840\n",
       "\u001b[36mres3_1\u001b[0m: \u001b[32mString\u001b[0m = \u001b[32m\"Volvo\"\u001b[0m\n",
       "\u001b[36mres3_2\u001b[0m: \u001b[32mString\u001b[0m = \u001b[32m\"v40\"\u001b[0m\n",
       "\u001b[36mres3_3\u001b[0m: \u001b[32mInt\u001b[0m = \u001b[32m2017\u001b[0m"
      ]
     },
     "metadata": {},
     "output_type": "display_data"
    }
   ],
   "source": [
    "val car2 = new Car(\"Volvo\", \"v40\", 2017)\n",
    "car2.manufacturer\n",
    "car2.model\n",
    "car2.year"
   ]
  },
  {
   "cell_type": "code",
   "execution_count": 7,
   "metadata": {
    "collapsed": false
   },
   "outputs": [
    {
     "data": {
      "text/plain": [
       "\u001b[36mcar3\u001b[0m: \u001b[32mCar\u001b[0m = cmd1$$user$Car@33e768c\n",
       "\u001b[36mres4_1\u001b[0m: \u001b[32mString\u001b[0m = \u001b[32m\"Volkswagen\"\u001b[0m\n",
       "\u001b[36mres4_2\u001b[0m: \u001b[32mString\u001b[0m = \u001b[32m\"Tiguan\"\u001b[0m\n",
       "\u001b[36mres4_3\u001b[0m: \u001b[32mInt\u001b[0m = \u001b[32m2016\u001b[0m\n",
       "\u001b[36mres4_4\u001b[0m: \u001b[32mString\u001b[0m = \u001b[32m\"AI11234\"\u001b[0m"
      ]
     },
     "metadata": {},
     "output_type": "display_data"
    }
   ],
   "source": [
    "val car3 = new Car(\"Volkswagen\", \"Tiguan\", 2016, \"AI11234\" )\n",
    "car3.manufacturer\n",
    "car3.model\n",
    "car3.year\n",
    "car3.license"
   ]
  },
  {
   "cell_type": "code",
   "execution_count": null,
   "metadata": {
    "collapsed": true
   },
   "outputs": [],
   "source": []
  }
 ],
 "metadata": {
  "kernelspec": {
   "display_name": "Scala 2.11",
   "language": "scala211",
   "name": "scala211"
  },
  "language_info": {
   "codemirror_mode": "text/x-scala",
   "file_extension": ".scala",
   "mimetype": "text/x-scala",
   "name": "scala211",
   "pygments_lexer": "scala",
   "version": "2.11.6"
  }
 },
 "nbformat": 4,
 "nbformat_minor": 2
}
