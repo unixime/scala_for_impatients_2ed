{
 "cells": [
  {
   "cell_type": "code",
   "execution_count": null,
   "metadata": {
    "collapsed": true
   },
   "outputs": [],
   "source": [
    "//Singleton\n",
    "\n",
    "object Accounts {\n",
    "    private var lastNumber = 0\n",
    "    def newUniqueNumber() = { lastNumber +=1 ; lastNumber}\n",
    "}"
   ]
  },
  {
   "cell_type": "code",
   "execution_count": null,
   "metadata": {
    "collapsed": true
   },
   "outputs": [],
   "source": [
    "// Companion\n",
    "\n",
    "class Account {\n",
    "    val id = Account.newUniqueNumber()\n",
    "    private var balance = 0.0\n",
    "    def deposit(amount: Double) {balance += amount}\n",
    "}\n",
    "\n",
    "object Account {\n",
    "    private var lastNumber = 0\n",
    "    def newUniqueNumber() = { lastNumber +=1 ; lastNumber}\n",
    "}"
   ]
  }
 ],
 "metadata": {
  "kernelspec": {
   "display_name": "Scala 2.11",
   "language": "scala211",
   "name": "scala211"
  },
  "language_info": {
   "codemirror_mode": "text/x-scala",
   "file_extension": ".scala",
   "mimetype": "text/x-scala",
   "name": "scala211",
   "pygments_lexer": "scala",
   "version": "2.11.6"
  }
 },
 "nbformat": 4,
 "nbformat_minor": 2
}
