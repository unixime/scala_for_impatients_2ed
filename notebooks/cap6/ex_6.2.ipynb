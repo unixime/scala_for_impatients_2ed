{
 "cells": [
  {
   "cell_type": "code",
   "execution_count": 0,
   "metadata": {
    "collapsed": true
   },
   "outputs": [],
   "source": [
    "/*\n",
    "The preceding problem wasn’t very object-oriented. Provide a general super-\n",
    "class UnitConversion and define objects InchesToCentimeters , GallonsToLiters , and\n",
    "MilesToKilometers that extend it.\n",
    "*/"
   ]
  },
  {
   "cell_type": "code",
   "execution_count": 7,
   "metadata": {
    "collapsed": false
   },
   "outputs": [
    {
     "data": {
      "text/plain": [
       "defined \u001b[32mclass \u001b[36mUnitConversion\u001b[0m"
      ]
     },
     "metadata": {},
     "output_type": "display_data"
    }
   ],
   "source": [
    "\n",
    "abstract class UnitConversion() {\n",
    "    def convert(v: Double):Double\n",
    "}"
   ]
  },
  {
   "cell_type": "code",
   "execution_count": 14,
   "metadata": {
    "collapsed": false
   },
   "outputs": [
    {
     "data": {
      "text/plain": [
       "defined \u001b[32mobject \u001b[36mInchesToCentimeters\u001b[0m\n",
       "defined \u001b[32mobject \u001b[36mgallonsToLiters\u001b[0m\n",
       "defined \u001b[32mobject \u001b[36mmilesToKilometers\u001b[0m"
      ]
     },
     "metadata": {},
     "output_type": "display_data"
    }
   ],
   "source": [
    "object InchesToCentimeters extends UnitConversion() {\n",
    "    override def convert(inch: Double):Double = { inch * 2.54 }\n",
    "}\n",
    "\n",
    "object gallonsToLiters extends UnitConversion() {\n",
    "    override def convert(gl: Double):Double = { gl * 3.79 }\n",
    "}\n",
    "\n",
    "object milesToKilometers extends UnitConversion() {\n",
    "    override def convert(ml: Double):Double = { ml * 1.61 }\n",
    "}\n"
   ]
  },
  {
   "cell_type": "code",
   "execution_count": 15,
   "metadata": {
    "collapsed": false
   },
   "outputs": [
    {
     "data": {
      "text/plain": [
       "\u001b[36mres8_0\u001b[0m: \u001b[32mDouble\u001b[0m = \u001b[32m5.08\u001b[0m\n",
       "\u001b[36mres8_1\u001b[0m: \u001b[32mDouble\u001b[0m = \u001b[32m11.370000000000001\u001b[0m\n",
       "\u001b[36mres8_2\u001b[0m: \u001b[32mDouble\u001b[0m = \u001b[32m6.44\u001b[0m"
      ]
     },
     "metadata": {},
     "output_type": "display_data"
    }
   ],
   "source": [
    "InchesToCentimeters.convert(2)\n",
    "gallonsToLiters.convert(3)\n",
    "milesToKilometers.convert(4)"
   ]
  },
  {
   "cell_type": "code",
   "execution_count": null,
   "metadata": {
    "collapsed": true
   },
   "outputs": [],
   "source": []
  }
 ],
 "metadata": {
  "kernelspec": {
   "display_name": "Scala 2.11",
   "language": "scala211",
   "name": "scala211"
  },
  "language_info": {
   "codemirror_mode": "text/x-scala",
   "file_extension": ".scala",
   "mimetype": "text/x-scala",
   "name": "scala211",
   "pygments_lexer": "scala",
   "version": "2.11.6"
  }
 },
 "nbformat": 4,
 "nbformat_minor": 2
}
