{
 "cells": [
  {
   "cell_type": "code",
   "execution_count": 0,
   "metadata": {
    "collapsed": false
   },
   "outputs": [],
   "source": [
    "/*\n",
    "Write an object Conversions with methods inchesToCentimeters , gallonsToLiters , and\n",
    "milesToKilometers .\n",
    "*/"
   ]
  },
  {
   "cell_type": "code",
   "execution_count": 6,
   "metadata": {
    "collapsed": false
   },
   "outputs": [
    {
     "data": {
      "text/plain": [
       "defined \u001b[32mobject \u001b[36mConversion\u001b[0m"
      ]
     },
     "metadata": {},
     "output_type": "display_data"
    }
   ],
   "source": [
    "\n",
    "object Conversion extends App {\n",
    "    \n",
    "    def inchesToCentimeters(inch:Double):Double = inch * 2.54\n",
    "    \n",
    "    def gallonsToLiters(gl:Double):Double = gl * 3.79\n",
    "    \n",
    "    def milesToKilometers(ml:Double):Double = ml * 1.61\n",
    "}"
   ]
  },
  {
   "cell_type": "code",
   "execution_count": 8,
   "metadata": {
    "collapsed": false
   },
   "outputs": [
    {
     "data": {
      "text/plain": [
       "\u001b[36mres4_0\u001b[0m: \u001b[32mDouble\u001b[0m = \u001b[32m5.08\u001b[0m\n",
       "\u001b[36mres4_1\u001b[0m: \u001b[32mDouble\u001b[0m = \u001b[32m11.370000000000001\u001b[0m\n",
       "\u001b[36mres4_2\u001b[0m: \u001b[32mDouble\u001b[0m = \u001b[32m6.44\u001b[0m"
      ]
     },
     "metadata": {},
     "output_type": "display_data"
    }
   ],
   "source": [
    "Conversion.inchesToCentimeters(2)\n",
    "Conversion.gallonsToLiters(3)\n",
    "Conversion.milesToKilometers(4)"
   ]
  },
  {
   "cell_type": "code",
   "execution_count": null,
   "metadata": {
    "collapsed": true
   },
   "outputs": [],
   "source": []
  }
 ],
 "metadata": {
  "kernelspec": {
   "display_name": "Scala 2.11",
   "language": "scala211",
   "name": "scala211"
  },
  "language_info": {
   "codemirror_mode": "text/x-scala",
   "file_extension": ".scala",
   "mimetype": "text/x-scala",
   "name": "scala211",
   "pygments_lexer": "scala",
   "version": "2.11.6"
  }
 },
 "nbformat": 4,
 "nbformat_minor": 2
}
