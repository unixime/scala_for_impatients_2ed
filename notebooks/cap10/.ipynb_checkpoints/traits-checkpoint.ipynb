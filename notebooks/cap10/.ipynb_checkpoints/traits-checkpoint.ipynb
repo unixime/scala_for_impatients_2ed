{
 "cells": [
  {
   "cell_type": "code",
   "execution_count": 1,
   "metadata": {},
   "outputs": [
    {
     "data": {
      "text/plain": [
       "defined \u001b[32mtrait \u001b[36mPerson\u001b[0m\n",
       "defined \u001b[32mclass \u001b[36mStudent\u001b[0m"
      ]
     },
     "metadata": {},
     "output_type": "display_data"
    }
   ],
   "source": [
    "\n",
    "trait Person {\n",
    "    def info(str: String)\n",
    "}\n",
    "\n",
    "class Student extends Person {\n",
    "    def info(str: String) {println(\"mgs\")}\n",
    "}"
   ]
  },
  {
   "cell_type": "code",
   "execution_count": 2,
   "metadata": {},
   "outputs": [
    {
     "ename": "",
     "evalue": "",
     "output_type": "error",
     "traceback": [
      "Compilation Failed",
      "\u001b[31mMain.scala:57: missing arguments for method info in class Student;",
      "follow this method with `_' if you want to treat it as a partially applied function",
      "a.info",
      "  ^\u001b[0m"
     ]
    }
   ],
   "source": [
    "val a = new Student\n",
    "a.info"
   ]
  },
  {
   "cell_type": "code",
   "execution_count": null,
   "metadata": {
    "collapsed": true
   },
   "outputs": [],
   "source": []
  }
 ],
 "metadata": {
  "kernelspec": {
   "display_name": "Scala 2.11",
   "language": "scala211",
   "name": "scala211"
  },
  "language_info": {
   "codemirror_mode": "text/x-scala",
   "file_extension": ".scala",
   "mimetype": "text/x-scala",
   "name": "scala211",
   "pygments_lexer": "scala",
   "version": "2.11.6"
  }
 },
 "nbformat": 4,
 "nbformat_minor": 2
}
